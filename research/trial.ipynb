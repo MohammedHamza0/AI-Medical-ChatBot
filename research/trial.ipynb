{
 "cells": [
  {
   "cell_type": "markdown",
   "metadata": {},
   "source": [
    "### Import Libraries"
   ]
  },
  {
   "cell_type": "code",
   "execution_count": null,
   "metadata": {},
   "outputs": [],
   "source": [
    "import os\n",
    "import warnings\n",
    "warnings.filterwarnings(\"ignore\")\n",
    "from langchain.document_loaders import PyPDFLoader, DirectoryLoader\n",
    "from langchain.text_splitter import RecursiveCharacterTextSplitter\n",
    "from langchain.embeddings import HuggingFaceEmbeddings\n",
    "import sentence_transformers\n",
    "from dotenv import load_dotenv\n",
    "load_dotenv()\n"
   ]
  },
  {
   "cell_type": "code",
   "execution_count": null,
   "metadata": {},
   "outputs": [],
   "source": [
    "os.chdir(\"..\")\n",
    "%pwd"
   ]
  },
  {
   "cell_type": "code",
   "execution_count": null,
   "metadata": {},
   "outputs": [],
   "source": [
    "# Extract data from pdf files\n",
    "def load_pdf_file(data):\n",
    "     loader = DirectoryLoader(path=data,\n",
    "                              glob=\"*.pdf\",\n",
    "                              loader_cls=PyPDFLoader)\n",
    "     \n",
    "     document = loader.load()\n",
    "     return document\n",
    "\n",
    "\n",
    "extracted_data = load_pdf_file(\"Data/\")"
   ]
  },
  {
   "cell_type": "code",
   "execution_count": null,
   "metadata": {},
   "outputs": [],
   "source": [
    "# extracted_data"
   ]
  },
  {
   "cell_type": "code",
   "execution_count": null,
   "metadata": {},
   "outputs": [],
   "source": [
    "# Split the data into chunks\n",
    "def text_split(extracted_data):\n",
    "     text_splitter = RecursiveCharacterTextSplitter(chunk_size=500, chunk_overlap=20)\n",
    "     text_chunks = text_splitter.split_documents(extracted_data)\n",
    "     return text_chunks\n",
    "\n",
    "text_chunks = text_split(extracted_data)\n",
    "print(f\"Length of the text chunks: {len(text_chunks)}\")"
   ]
  },
  {
   "cell_type": "code",
   "execution_count": null,
   "metadata": {},
   "outputs": [],
   "source": [
    "# Download the embedding from HuggingFace\n",
    "def download_hugginface_embedding():\n",
    "     embeddings = HuggingFaceEmbeddings(model_name=\"sentence-transformers/all-MiniLM-L6-v2\")\n",
    "     return embeddings\n",
    "\n",
    "embeddings = download_hugginface_embedding()"
   ]
  },
  {
   "cell_type": "code",
   "execution_count": null,
   "metadata": {},
   "outputs": [],
   "source": [
    "embeddings"
   ]
  },
  {
   "cell_type": "code",
   "execution_count": null,
   "metadata": {},
   "outputs": [],
   "source": [
    "# Test for embedding model\n",
    "emb_qu = embeddings.embed_query(\"Hello World\")\n",
    "print(emb_qu)\n",
    "print(f\"Length {len(emb_qu)}\")"
   ]
  },
  {
   "cell_type": "code",
   "execution_count": null,
   "metadata": {},
   "outputs": [],
   "source": [
    "PINECONE_API_KEY = os.getenv(\"PINECONE_API_KEY\")"
   ]
  },
  {
   "cell_type": "code",
   "execution_count": null,
   "metadata": {},
   "outputs": [],
   "source": [
    "# Initialize Pinecone and create the index if not exists\n",
    "os.environ[\"PINECONE_API_KEY\"] = PINECONE_API_KEY\n",
    "# from pinecone.grpc import PineconeGRPC as Pinecone\n",
    "# from pinecone import ServerlessSpec\n",
    "from pinecone import Pinecone, ServerlessSpec\n",
    "\n",
    "\n",
    "pc = Pinecone(api_key=PINECONE_API_KEY)\n",
    "index_name = \"medicalbot\"\n",
    "pc.create_index(name=index_name,\n",
    "                dimension=384,\n",
    "                metric=\"cosine\",\n",
    "                spec=ServerlessSpec(cloud=\"aws\",region=\"us-east-1\"))"
   ]
  },
  {
   "cell_type": "code",
   "execution_count": null,
   "metadata": {},
   "outputs": [],
   "source": [
    "index_name"
   ]
  },
  {
   "cell_type": "code",
   "execution_count": null,
   "metadata": {},
   "outputs": [],
   "source": [
    "os.environ[\"PINECONE_API_KEY\"] = PINECONE_API_KEY"
   ]
  },
  {
   "cell_type": "code",
   "execution_count": null,
   "metadata": {},
   "outputs": [],
   "source": [
    "# # Initialize the Pinecone index with retry logic\n",
    "# from langchain_pinecone import PineconeVectorStore\n",
    "# import time\n",
    "\n",
    "# def initialize_pinecone_vector_store(documents, index_name, embedding, retries=3, delay=5):\n",
    "#     for attempt in range(retries):\n",
    "#         try:\n",
    "#             docsearch = PineconeVectorStore.from_documents(\n",
    "#                 documents=documents, \n",
    "#                 index_name=index_name,\n",
    "#                 embedding=embedding\n",
    "#             )\n",
    "#             print(\"Pinecone Vector Store initialized successfully.\")\n",
    "#             return docsearch\n",
    "#         except Exception as e:\n",
    "#             print(f\"Attempt {attempt + 1} failed: {e}\")\n",
    "#             if attempt < retries - 1:\n",
    "#                 time.sleep(delay)\n",
    "#             else:\n",
    "#                 raise e\n",
    "\n",
    "# docsearch = initialize_pinecone_vector_store(\n",
    "#     documents=text_chunks, \n",
    "#     index_name=index_name,\n",
    "#     embedding=embeddings\n",
    "# )"
   ]
  },
  {
   "cell_type": "code",
   "execution_count": null,
   "metadata": {},
   "outputs": [],
   "source": [
    "from langchain_pinecone import PineconeVectorStore\n",
    "from tqdm import tqdm\n",
    "import time\n",
    "\n",
    "def initialize_pinecone_vector_store_with_progress(documents, index_name, embedding, batch_size=32, retries=3, delay=5):\n",
    "    for attempt in range(retries):\n",
    "        try:\n",
    "            print(\"Starting to upload documents to Pinecone with progress bar...\")\n",
    "            \n",
    "            for i in tqdm(range(0, len(documents), batch_size), desc=\"Uploading batches\"):\n",
    "                batch = documents[i:i+batch_size]\n",
    "                PineconeVectorStore.from_documents(\n",
    "                    documents=batch,\n",
    "                    index_name=index_name,\n",
    "                    embedding=embedding\n",
    "                )\n",
    "            \n",
    "            print(\"✅ Pinecone Vector Store initialized successfully.\")\n",
    "            return True\n",
    "        \n",
    "        except Exception as e:\n",
    "            print(f\"❌ Attempt {attempt + 1} failed: {e}\")\n",
    "            if attempt < retries - 1:\n",
    "                print(f\"⏳ Retrying after {delay} seconds...\")\n",
    "                time.sleep(delay)\n",
    "            else:\n",
    "                raise e\n",
    "\n",
    "# استخدام الدالة\n",
    "success = initialize_pinecone_vector_store_with_progress(\n",
    "    documents=text_chunks, \n",
    "    index_name=index_name,\n",
    "    embedding=embeddings,\n",
    "    batch_size=32 \n",
    ")\n"
   ]
  }
 ],
 "metadata": {
  "kernelspec": {
   "display_name": "medibot",
   "language": "python",
   "name": "python3"
  },
  "language_info": {
   "codemirror_mode": {
    "name": "ipython",
    "version": 3
   },
   "file_extension": ".py",
   "mimetype": "text/x-python",
   "name": "python",
   "nbconvert_exporter": "python",
   "pygments_lexer": "ipython3",
   "version": "3.10.16"
  }
 },
 "nbformat": 4,
 "nbformat_minor": 2
}
